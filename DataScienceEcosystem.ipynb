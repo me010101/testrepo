{
 "cells": [
  {
   "cell_type": "markdown",
   "id": "af3cdf7b-3c86-4c46-8362-a99784ab8932",
   "metadata": {
    "tags": []
   },
   "source": [
    "<h1> Data Science Tools and Ecosystem</h1>"
   ]
  },
  {
   "cell_type": "markdown",
   "id": "053bd12e-3bee-46d4-b697-03a326cbcfdc",
   "metadata": {},
   "source": [
    "In this notebook, Data Science Tools and Ecosystem are summarized."
   ]
  },
  {
   "cell_type": "markdown",
   "id": "9da38696-fca0-459d-b4ad-5444f89574dc",
   "metadata": {
    "tags": []
   },
   "source": [
    "<table border=1><th>Data Science Tools</th>\n",
    "<tr><td>ApacheSpark</td></tr>\n",
    "<tr><td>Jupyter</td></tr>\n",
    "<tr><td>PowerBI</td></tr>\n",
    "</table>"
   ]
  },
  {
   "cell_type": "markdown",
   "id": "237a48ca-957d-43b8-8a82-8ff2eb03027b",
   "metadata": {},
   "source": [
    "Some of the popular languages that Data Scientists use \n",
    "<ol>\n",
    "<li>Python</li><li>Java</li><li>Scala</li>\n",
    "</ol>"
   ]
  },
  {
   "cell_type": "markdown",
   "id": "7cce8737-e59e-468a-843f-605ee4da2191",
   "metadata": {
    "tags": []
   },
   "source": [
    "Some of the commonly used libraries used by Data Scientists include:\n",
    "<ol>\n",
    "<li>NumPy</li><li>Pandas</li><li>PyTorch</li>\n",
    "</ol>"
   ]
  },
  {
   "cell_type": "markdown",
   "id": "444ea5fa-740f-4f5e-a6d4-924c5a6e1e41",
   "metadata": {},
   "source": [
    "<b>Objectives</b>\n",
    "<ul>\n",
    "    <li>List popular languages for Data Science</li>\n",
    "    <li>List commonly used libraries for Data Science</li>\n",
    "    <li>List Data Science tools</li>\n",
    "</ul>"
   ]
  },
  {
   "cell_type": "markdown",
   "id": "28c8f550-19f7-4e23-91e6-4c9c0c288b17",
   "metadata": {
    "tags": []
   },
   "source": [
    "<h3>Below are a few examples of evaluating arithmetic expressions in Python</h3>"
   ]
  },
  {
   "cell_type": "code",
   "execution_count": 13,
   "id": "3850f933-b135-40c2-96c8-66a746bb520c",
   "metadata": {
    "tags": []
   },
   "outputs": [
    {
     "data": {
      "text/plain": [
       "17"
      ]
     },
     "execution_count": 13,
     "metadata": {},
     "output_type": "execute_result"
    }
   ],
   "source": [
    "# This a simple arithmetic expression to mutiply then add integers\n",
    "(3*4)+5"
   ]
  },
  {
   "cell_type": "code",
   "execution_count": 14,
   "id": "a055dfb0-450c-4273-97c7-ff3aca794c60",
   "metadata": {
    "tags": []
   },
   "outputs": [
    {
     "data": {
      "text/plain": [
       "3.3333333333333335"
      ]
     },
     "execution_count": 14,
     "metadata": {},
     "output_type": "execute_result"
    }
   ],
   "source": [
    "# This will convert 200 minutes to hours by diving by 60\n",
    "200/60"
   ]
  },
  {
   "cell_type": "markdown",
   "id": "3596ffe7-e00d-4c8d-9c9a-82705331f3dc",
   "metadata": {},
   "source": [
    "<h2>Author</h2><br>Mercedes Val."
   ]
  },
  {
   "cell_type": "code",
   "execution_count": null,
   "id": "92921a85-5c05-4462-b4d7-d24a5c44da63",
   "metadata": {},
   "outputs": [],
   "source": []
  }
 ],
 "metadata": {
  "kernelspec": {
   "display_name": "Python",
   "language": "python",
   "name": "conda-env-python-py"
  },
  "language_info": {
   "codemirror_mode": {
    "name": "ipython",
    "version": 3
   },
   "file_extension": ".py",
   "mimetype": "text/x-python",
   "name": "python",
   "nbconvert_exporter": "python",
   "pygments_lexer": "ipython3",
   "version": "3.7.12"
  }
 },
 "nbformat": 4,
 "nbformat_minor": 5
}
